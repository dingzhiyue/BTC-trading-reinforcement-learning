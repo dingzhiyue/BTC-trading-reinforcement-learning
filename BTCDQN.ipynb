{
  "nbformat": 4,
  "nbformat_minor": 0,
  "metadata": {
    "colab": {
      "name": "BTCDQN.ipynb",
      "provenance": []
    },
    "kernelspec": {
      "name": "python3",
      "display_name": "Python 3"
    }
  },
  "cells": [
    {
      "cell_type": "code",
      "metadata": {
        "id": "I13F76Ge6Cf5",
        "colab_type": "code",
        "colab": {
          "base_uri": "https://localhost:8080/",
          "height": 34
        },
        "outputId": "acdf0150-de93-4db6-d8e7-b6a1e2e1aeab"
      },
      "source": [
        "from google.colab import drive\n",
        "drive.mount('/content/my')"
      ],
      "execution_count": 16,
      "outputs": [
        {
          "output_type": "stream",
          "text": [
            "Drive already mounted at /content/my; to attempt to forcibly remount, call drive.mount(\"/content/my\", force_remount=True).\n"
          ],
          "name": "stdout"
        }
      ]
    },
    {
      "cell_type": "code",
      "metadata": {
        "id": "iJGN5YWR93V7",
        "colab_type": "code",
        "colab": {}
      },
      "source": [
        "import sys\n",
        "sys.path.append('/content/my/My Drive/BTC')"
      ],
      "execution_count": 17,
      "outputs": []
    },
    {
      "cell_type": "code",
      "metadata": {
        "id": "Mx1ksWwO6-Wq",
        "colab_type": "code",
        "colab": {
          "base_uri": "https://localhost:8080/",
          "height": 34
        },
        "outputId": "e03a6bbc-d02d-4c40-86f1-880773013043"
      },
      "source": [
        "import gym\n",
        "import numpy as np\n",
        "import random\n",
        "import pandas as pd\n",
        "import numpy as np\n",
        "from environment_gym import trading_environment\n",
        "from train import*\n",
        "import matplotlib.pyplot as plt\n",
        "import keras as ks\n",
        "from keras.layers import Dense\n",
        "import collections"
      ],
      "execution_count": null,
      "outputs": [
        {
          "output_type": "stream",
          "text": [
            "Using TensorFlow backend.\n"
          ],
          "name": "stderr"
        }
      ]
    },
    {
      "cell_type": "markdown",
      "metadata": {
        "id": "UPP5ZKBL-x3J",
        "colab_type": "text"
      },
      "source": [
        "Data preprocessing"
      ]
    },
    {
      "cell_type": "code",
      "metadata": {
        "id": "0ygqGDyH-qQ6",
        "colab_type": "code",
        "colab": {
          "base_uri": "https://localhost:8080/",
          "height": 282
        },
        "outputId": "2477f09b-b04d-4528-aea5-f168bf7d23ca"
      },
      "source": [
        "path = 'my/My Drive/BTC/'\n",
        "data = pd.read_csv(path+'coinbase_daily.csv')\n",
        "data = data[['Open','High','Low','Close','Volume BTC']]\n",
        "market_data = data.values[::-1]\n",
        "plt.plot(market_data[:,3])\n",
        "plt.legend(['Close'])"
      ],
      "execution_count": 18,
      "outputs": [
        {
          "output_type": "execute_result",
          "data": {
            "text/plain": [
              "<matplotlib.legend.Legend at 0x7fca20c0d5c0>"
            ]
          },
          "metadata": {
            "tags": []
          },
          "execution_count": 18
        },
        {
          "output_type": "display_data",
          "data": {
            "image/png": "[encoded data removed]",
            "text/plain": [
              "<Figure size 432x288 with 1 Axes>"
            ]
          },
          "metadata": {
            "tags": [],
            "needs_background": "light"
          }
        }
      ]
    },
    {
      "cell_type": "markdown",
      "metadata": {
        "id": "FL5reOcGAtOn",
        "colab_type": "text"
      },
      "source": [
        "Build a DQN"
      ]
    },
    {
      "cell_type": "code",
      "metadata": {
        "id": "C8uaAkjz_n2g",
        "colab_type": "code",
        "colab": {}
      },
      "source": [
        "class DQN:\n",
        "    def __init__(self, env):\n",
        "        self.env = env\n",
        "        self.pool_size=200\n",
        "        self.learning_rate = 0.01\n",
        "        self.epsilon = 0.1\n",
        "        self.batch_size = 32\n",
        "        self.alpha = 0.5\n",
        "        self.gamma = 0.01\n",
        "        self.experience_pool = collections.deque(maxlen=self.pool_size)\n",
        "        self.model = self.build_model()\n",
        "        self.target_model = self.model\n",
        "\n",
        "    def build_model(self):\n",
        "        model = ks.models.Sequential()\n",
        "        input_size = self.env.observation_space.shape[0] * self.env.windows\n",
        "        #input_size = 16\n",
        "        output_size = 21\n",
        "\n",
        "        model.add(Dense(100, input_dim=input_size, activation='relu'))\n",
        "        model.add(Dense(25, activation='relu'))\n",
        "        model.add(Dense(output_size))\n",
        "\n",
        "        model.compile(loss='mean_squared_error', optimizer=ks.optimizers.Adam(lr=self.learning_rate))\n",
        "        return model\n",
        "\n",
        "    def epsilon_greedy_action(self,state):\n",
        "        rd = np.random.uniform()\n",
        "        if rd >= self.epsilon:\n",
        "            state = self.transfer_state_dim(state)\n",
        "            act = np.argmax(self.model.predict(state))\n",
        "        else:\n",
        "            act = self.env.action_space.sample()\n",
        "        return act\n",
        "\n",
        "    def transfer_state_dim(self, state):#out put ndarray (1, 80)\n",
        "        out = np.reshape(state, [1, state.shape[0] * state.shape[1]])\n",
        "        return out\n",
        "\n",
        "    def save_into_pool(self, state, act):\n",
        "        state_next, rewards, done, info = self.env.step(act)\n",
        "        new_sample = [state, act, rewards, state_next, done]\n",
        "        self.experience_pool.append(new_sample)\n",
        "        return state_next, rewards, done\n",
        "\n",
        "    def initial_pool(self):\n",
        "        i = 0\n",
        "        while True:\n",
        "            if i > self.pool_size:\n",
        "                break\n",
        "            state = self.env.reset()\n",
        "            while True:\n",
        "                i += 1\n",
        "                act = self.env.action_space.sample()\n",
        "                state_next, rewards, done, info = self.env.step(act)\n",
        "                self.save_into_pool(state, act)\n",
        "                state = state_next\n",
        "                if done or i > self.pool_size:\n",
        "                    break\n",
        "\n",
        "    def sample_from_pool(self):\n",
        "        training_samples = random.sample(self.experience_pool, self.batch_size)\n",
        "        return training_samples\n",
        "\n",
        "    def train_batch(self, training_samples):\n",
        "        x_train = []\n",
        "        y_train = []\n",
        "        for sample in training_samples:\n",
        "            state, act, reward, state_next, done = sample\n",
        "            state = self.transfer_state_dim(state)\n",
        "            x_train.append(state)\n",
        "            state_next = self.transfer_state_dim(state_next)\n",
        "            target = self.target_model.predict(state)\n",
        "            if done:\n",
        "                target[0][act] = reward\n",
        "            else:\n",
        "                target[0][act] = reward + self.gamma * np.max(self.target_model.predict(state_next))\n",
        "            y_train.append(target)\n",
        "        x_train = np.array(x_train)\n",
        "        x_train = np.squeeze(x_train)\n",
        "        y_train = np.array(y_train)\n",
        "        y_train = np.squeeze(y_train)\n",
        "        self.model.fit(x_train, y_train, epochs=50, verbose=0)\n",
        "\n",
        "    def update_target_model(self):\n",
        "        weights = self.model.get_weights()\n",
        "        target_weights = self.target_model.get_weights()\n",
        "        #self.target_model.set_weights(weights)#simply update by weights\n",
        "        for i in range(len(weights)):\n",
        "            target_weights[i] = (1 - self.alpha) * target_weights[i] + self.alpha * weights[i]\n",
        "        self.target_model.set_weights(target_weights)\n",
        "\n",
        "    def model_save(self, name):\n",
        "        self.model.save(name)"
      ],
      "execution_count": 20,
      "outputs": []
    },
    {
      "cell_type": "markdown",
      "metadata": {
        "id": "qGFVMHHoCJLl",
        "colab_type": "text"
      },
      "source": [
        "Build a training function"
      ]
    },
    {
      "cell_type": "code",
      "metadata": {
        "id": "KKcQM6h2COnJ",
        "colab_type": "code",
        "colab": {}
      },
      "source": [
        "def DQN_train(market_data, trails, iterations):\n",
        "    \n",
        "    initial_cash_balance = 10000\n",
        "    initial_bt_balance = 0\n",
        "    windows = 10\n",
        "    env = trading_environment(market_data, windows=windows, initial_cash_balance=initial_cash_balance, initial_bt_balance=initial_bt_balance)\n",
        "    DQN_agent = DQN(env)\n",
        "\n",
        "\n",
        "    DQN_agent.initial_pool()\n",
        "    print('initial pool finished')\n",
        "    for trail in range(trails):\n",
        "        print('trail', trail)\n",
        "        state = env.reset()\n",
        "        for iteration in range(iterations):\n",
        "            print('iteration', iteration)\n",
        "            act = DQN_agent.epsilon_greedy_action(state)#下一步\n",
        "            state_next, rewards, done = DQN_agent.save_into_pool(state, act)#save into pool同时做一步step\n",
        "            training_samples = DQN_agent.sample_from_pool()#sample from pool\n",
        "            DQN_agent.train_batch(training_samples)#train batch\n",
        "            if iteration%10==0:#update target NN every10 steps\n",
        "                DQN_agent.update_target_model()\n",
        "            state = state_next\n",
        "            if done:\n",
        "                break\n",
        "        #DQN_agent.env.render()\n",
        "\n",
        "    DQN_agent.model_save('BTC_DQN1')"
      ],
      "execution_count": 31,
      "outputs": []
    },
    {
      "cell_type": "markdown",
      "metadata": {
        "id": "bjblI7AOCcd4",
        "colab_type": "text"
      },
      "source": [
        "Train a model with only one play trail and 10 steps in each trail."
      ]
    },
    {
      "cell_type": "code",
      "metadata": {
        "id": "RL2Q7Y7ECYGG",
        "colab_type": "code",
        "colab": {
          "base_uri": "https://localhost:8080/",
          "height": 1000
        },
        "outputId": "091a40f7-7258-4766-9dc3-f4f6227d2282"
      },
      "source": [
        "DQN_train(market_data, 1, 100)"
      ],
      "execution_count": 32,
      "outputs": [
        {
          "output_type": "stream",
          "text": [
            "initial pool finished\n",
            "trail 0\n",
            "iteration 0\n",
            "iteration 1\n",
            "iteration 2\n",
            "iteration 3\n",
            "iteration 4\n",
            "iteration 5\n",
            "iteration 6\n",
            "iteration 7\n",
            "iteration 8\n",
            "iteration 9\n",
            "iteration 10\n",
            "iteration 11\n",
            "iteration 12\n",
            "iteration 13\n",
            "iteration 14\n",
            "iteration 15\n",
            "iteration 16\n",
            "iteration 17\n",
            "iteration 18\n",
            "iteration 19\n",
            "iteration 20\n",
            "iteration 21\n",
            "iteration 22\n",
            "iteration 23\n",
            "iteration 24\n",
            "iteration 25\n",
            "iteration 26\n",
            "iteration 27\n",
            "iteration 28\n",
            "iteration 29\n",
            "iteration 30\n",
            "iteration 31\n",
            "iteration 32\n",
            "iteration 33\n",
            "iteration 34\n",
            "iteration 35\n",
            "iteration 36\n",
            "iteration 37\n",
            "iteration 38\n",
            "iteration 39\n",
            "iteration 40\n",
            "iteration 41\n",
            "iteration 42\n",
            "iteration 43\n",
            "iteration 44\n",
            "iteration 45\n",
            "iteration 46\n",
            "iteration 47\n",
            "iteration 48\n",
            "iteration 49\n",
            "iteration 50\n",
            "iteration 51\n",
            "iteration 52\n",
            "iteration 53\n",
            "iteration 54\n",
            "iteration 55\n",
            "iteration 56\n",
            "iteration 57\n",
            "iteration 58\n",
            "iteration 59\n",
            "iteration 60\n",
            "iteration 61\n",
            "iteration 62\n",
            "iteration 63\n",
            "iteration 64\n",
            "iteration 65\n",
            "iteration 66\n",
            "iteration 67\n",
            "iteration 68\n",
            "iteration 69\n",
            "iteration 70\n",
            "iteration 71\n",
            "iteration 72\n",
            "iteration 73\n",
            "iteration 74\n",
            "iteration 75\n",
            "iteration 76\n",
            "iteration 77\n",
            "iteration 78\n",
            "iteration 79\n",
            "iteration 80\n",
            "iteration 81\n",
            "iteration 82\n",
            "iteration 83\n",
            "iteration 84\n",
            "iteration 85\n",
            "iteration 86\n",
            "iteration 87\n",
            "iteration 88\n",
            "iteration 89\n",
            "iteration 90\n",
            "iteration 91\n",
            "iteration 92\n",
            "iteration 93\n",
            "iteration 94\n",
            "iteration 95\n",
            "iteration 96\n",
            "iteration 97\n",
            "iteration 98\n",
            "iteration 99\n"
          ],
          "name": "stdout"
        }
      ]
    },
    {
      "cell_type": "markdown",
      "metadata": {
        "id": "MJFttvttDDzV",
        "colab_type": "text"
      },
      "source": [
        "See how this not well-trained model perform. Define a validation function."
      ]
    },
    {
      "cell_type": "code",
      "metadata": {
        "id": "FDlezeWiC14k",
        "colab_type": "code",
        "colab": {}
      },
      "source": [
        "def DQN_validation(market_data, path):\n",
        "\n",
        "    initial_cash_balance = 10000\n",
        "    initial_bt_balance = 0\n",
        "    windows = 10\n",
        "\n",
        "    start_time = 800\n",
        "    env = trading_environment(market_data[start_time:], windows=windows, initial_cash_balance=initial_cash_balance, initial_bt_balance=initial_bt_balance)\n",
        "    DQN_validate = DQN(env)\n",
        "    DQN_validate.model = ks.models.load_model(path)\n",
        "\n",
        "    trading_steps = 700\n",
        "    state = DQN_validate.env.reset()\n",
        "\n",
        "    DQN_validate.epsilon = 0# overwirte epsilon greedy\n",
        "    for i in range(trading_steps):\n",
        "        act = DQN_validate.epsilon_greedy_action(state)\n",
        "        state_next, rewards, done, info = DQN_validate.env.step(act)\n",
        "        state = state_next\n",
        "    DQN_validate.env.render()"
      ],
      "execution_count": 33,
      "outputs": []
    },
    {
      "cell_type": "code",
      "metadata": {
        "id": "CEvNisflDjaV",
        "colab_type": "code",
        "colab": {
          "base_uri": "https://localhost:8080/",
          "height": 762
        },
        "outputId": "50ce339d-81a3-472f-b9ad-42f2fde01b5c"
      },
      "source": [
        "model_path = '/content/BTC_DQN1'\n",
        "DQN_validation(market_data, model_path)"
      ],
      "execution_count": 34,
      "outputs": [
        {
          "output_type": "display_data",
          "data": {
            "image/png": "[encoded data removed]",
            "text/plain": [
              "<Figure size 432x288 with 1 Axes>"
            ]
          },
          "metadata": {
            "tags": [],
            "needs_background": "light"
          }
        },
        {
          "output_type": "display_data",
          "data": {
            "image/png": "[encoded data removed]",
            "text/plain": [
              "<Figure size 432x288 with 1 Axes>"
            ]
          },
          "metadata": {
            "tags": [],
            "needs_background": "light"
          }
        },
        {
          "output_type": "display_data",
          "data": {
            "image/png": "[encoded data removed]",
            "text/plain": [
              "<Figure size 432x288 with 1 Axes>"
            ]
          },
          "metadata": {
            "tags": [],
            "needs_background": "light"
          }
        }
      ]
    },
    {
      "cell_type": "markdown",
      "metadata": {
        "id": "jeUa9MrWEMA_",
        "colab_type": "text"
      },
      "source": [
        "Basicallly this is like some random strategies, and it doesn't make much profit."
      ]
    },
    {
      "cell_type": "markdown",
      "metadata": {
        "id": "ibV_P82fEXpP",
        "colab_type": "text"
      },
      "source": [
        "Now, I will train a model little bit longer with 5 trails each of which has 100 steps."
      ]
    },
    {
      "cell_type": "code",
      "metadata": {
        "id": "AVYBR4keDtFN",
        "colab_type": "code",
        "colab": {
          "base_uri": "https://localhost:8080/",
          "height": 1000
        },
        "outputId": "0a0723b0-d12c-4f42-8c4e-010e8fe90768"
      },
      "source": [
        "DQN_train(market_data, 5, 100)"
      ],
      "execution_count": 35,
      "outputs": [
        {
          "output_type": "stream",
          "text": [
            "initial pool finished\n",
            "trail 0\n",
            "iteration 0\n",
            "iteration 1\n",
            "iteration 2\n",
            "iteration 3\n",
            "iteration 4\n",
            "iteration 5\n",
            "iteration 6\n",
            "iteration 7\n",
            "iteration 8\n",
            "iteration 9\n",
            "iteration 10\n",
            "iteration 11\n",
            "iteration 12\n",
            "iteration 13\n",
            "iteration 14\n",
            "iteration 15\n",
            "iteration 16\n",
            "iteration 17\n",
            "iteration 18\n",
            "iteration 19\n",
            "iteration 20\n",
            "iteration 21\n",
            "iteration 22\n",
            "iteration 23\n",
            "iteration 24\n",
            "iteration 25\n",
            "iteration 26\n",
            "iteration 27\n",
            "iteration 28\n",
            "iteration 29\n",
            "iteration 30\n",
            "iteration 31\n",
            "iteration 32\n",
            "iteration 33\n",
            "iteration 34\n",
            "iteration 35\n",
            "iteration 36\n",
            "iteration 37\n",
            "iteration 38\n",
            "iteration 39\n",
            "iteration 40\n",
            "iteration 41\n",
            "iteration 42\n",
            "iteration 43\n",
            "iteration 44\n",
            "iteration 45\n",
            "iteration 46\n",
            "iteration 47\n",
            "iteration 48\n",
            "iteration 49\n",
            "iteration 50\n",
            "iteration 51\n",
            "iteration 52\n",
            "iteration 53\n",
            "iteration 54\n",
            "iteration 55\n",
            "iteration 56\n",
            "iteration 57\n",
            "iteration 58\n",
            "iteration 59\n",
            "iteration 60\n",
            "iteration 61\n",
            "iteration 62\n",
            "iteration 63\n",
            "iteration 64\n",
            "iteration 65\n",
            "iteration 66\n",
            "iteration 67\n",
            "iteration 68\n",
            "iteration 69\n",
            "iteration 70\n",
            "iteration 71\n",
            "iteration 72\n",
            "iteration 73\n",
            "iteration 74\n",
            "iteration 75\n",
            "iteration 76\n",
            "iteration 77\n",
            "iteration 78\n",
            "iteration 79\n",
            "iteration 80\n",
            "iteration 81\n",
            "iteration 82\n",
            "iteration 83\n",
            "iteration 84\n",
            "iteration 85\n",
            "iteration 86\n",
            "iteration 87\n",
            "iteration 88\n",
            "iteration 89\n",
            "iteration 90\n",
            "iteration 91\n",
            "iteration 92\n",
            "iteration 93\n",
            "iteration 94\n",
            "iteration 95\n",
            "iteration 96\n",
            "iteration 97\n",
            "iteration 98\n",
            "iteration 99\n",
            "trail 1\n",
            "iteration 0\n",
            "iteration 1\n",
            "iteration 2\n",
            "iteration 3\n",
            "iteration 4\n",
            "iteration 5\n",
            "iteration 6\n",
            "iteration 7\n",
            "iteration 8\n",
            "iteration 9\n",
            "iteration 10\n",
            "iteration 11\n",
            "iteration 12\n",
            "iteration 13\n",
            "iteration 14\n",
            "iteration 15\n",
            "iteration 16\n",
            "iteration 17\n",
            "iteration 18\n",
            "iteration 19\n",
            "iteration 20\n",
            "iteration 21\n",
            "iteration 22\n",
            "iteration 23\n",
            "iteration 24\n",
            "iteration 25\n",
            "iteration 26\n",
            "iteration 27\n",
            "iteration 28\n",
            "iteration 29\n",
            "iteration 30\n",
            "iteration 31\n",
            "iteration 32\n",
            "iteration 33\n",
            "iteration 34\n",
            "iteration 35\n",
            "iteration 36\n",
            "iteration 37\n",
            "iteration 38\n",
            "iteration 39\n",
            "iteration 40\n",
            "iteration 41\n",
            "iteration 42\n",
            "iteration 43\n",
            "iteration 44\n",
            "iteration 45\n",
            "iteration 46\n",
            "iteration 47\n",
            "iteration 48\n",
            "iteration 49\n",
            "iteration 50\n",
            "iteration 51\n",
            "iteration 52\n",
            "iteration 53\n",
            "iteration 54\n",
            "iteration 55\n",
            "iteration 56\n",
            "iteration 57\n",
            "iteration 58\n",
            "iteration 59\n",
            "iteration 60\n",
            "iteration 61\n",
            "iteration 62\n",
            "iteration 63\n",
            "iteration 64\n",
            "iteration 65\n",
            "iteration 66\n",
            "iteration 67\n",
            "iteration 68\n",
            "iteration 69\n",
            "iteration 70\n",
            "iteration 71\n",
            "iteration 72\n",
            "iteration 73\n",
            "iteration 74\n",
            "iteration 75\n",
            "iteration 76\n",
            "iteration 77\n",
            "iteration 78\n",
            "iteration 79\n",
            "iteration 80\n",
            "iteration 81\n",
            "iteration 82\n",
            "iteration 83\n",
            "iteration 84\n",
            "iteration 85\n",
            "iteration 86\n",
            "iteration 87\n",
            "iteration 88\n",
            "iteration 89\n",
            "iteration 90\n",
            "iteration 91\n",
            "iteration 92\n",
            "iteration 93\n",
            "iteration 94\n",
            "iteration 95\n",
            "iteration 96\n",
            "iteration 97\n",
            "iteration 98\n",
            "iteration 99\n",
            "trail 2\n",
            "iteration 0\n",
            "iteration 1\n",
            "iteration 2\n",
            "iteration 3\n",
            "iteration 4\n",
            "iteration 5\n",
            "iteration 6\n",
            "iteration 7\n",
            "iteration 8\n",
            "iteration 9\n",
            "iteration 10\n",
            "iteration 11\n",
            "iteration 12\n",
            "iteration 13\n",
            "iteration 14\n",
            "iteration 15\n",
            "iteration 16\n",
            "iteration 17\n",
            "iteration 18\n",
            "iteration 19\n",
            "iteration 20\n",
            "iteration 21\n",
            "iteration 22\n",
            "iteration 23\n",
            "iteration 24\n",
            "iteration 25\n",
            "iteration 26\n",
            "iteration 27\n",
            "iteration 28\n",
            "iteration 29\n",
            "iteration 30\n",
            "iteration 31\n",
            "iteration 32\n",
            "iteration 33\n",
            "iteration 34\n",
            "iteration 35\n",
            "iteration 36\n",
            "iteration 37\n",
            "iteration 38\n",
            "iteration 39\n",
            "iteration 40\n",
            "iteration 41\n",
            "iteration 42\n",
            "iteration 43\n",
            "iteration 44\n",
            "iteration 45\n",
            "iteration 46\n",
            "iteration 47\n",
            "iteration 48\n",
            "iteration 49\n",
            "iteration 50\n",
            "iteration 51\n",
            "iteration 52\n",
            "iteration 53\n",
            "iteration 54\n",
            "iteration 55\n",
            "iteration 56\n",
            "iteration 57\n",
            "iteration 58\n",
            "iteration 59\n",
            "iteration 60\n",
            "iteration 61\n",
            "iteration 62\n",
            "iteration 63\n",
            "iteration 64\n",
            "iteration 65\n",
            "iteration 66\n",
            "iteration 67\n",
            "iteration 68\n",
            "iteration 69\n",
            "iteration 70\n",
            "iteration 71\n",
            "iteration 72\n",
            "iteration 73\n",
            "iteration 74\n",
            "iteration 75\n",
            "iteration 76\n",
            "iteration 77\n",
            "iteration 78\n",
            "iteration 79\n",
            "iteration 80\n",
            "iteration 81\n",
            "iteration 82\n",
            "iteration 83\n",
            "iteration 84\n",
            "iteration 85\n",
            "iteration 86\n",
            "iteration 87\n",
            "iteration 88\n",
            "iteration 89\n",
            "iteration 90\n",
            "iteration 91\n",
            "iteration 92\n",
            "iteration 93\n",
            "iteration 94\n",
            "iteration 95\n",
            "iteration 96\n",
            "iteration 97\n",
            "iteration 98\n",
            "iteration 99\n",
            "trail 3\n",
            "iteration 0\n",
            "iteration 1\n",
            "iteration 2\n",
            "iteration 3\n",
            "iteration 4\n",
            "iteration 5\n",
            "iteration 6\n",
            "iteration 7\n",
            "iteration 8\n",
            "iteration 9\n",
            "iteration 10\n",
            "iteration 11\n",
            "iteration 12\n",
            "iteration 13\n",
            "iteration 14\n",
            "iteration 15\n",
            "iteration 16\n",
            "iteration 17\n",
            "iteration 18\n",
            "iteration 19\n",
            "iteration 20\n",
            "iteration 21\n",
            "iteration 22\n",
            "iteration 23\n",
            "iteration 24\n",
            "iteration 25\n",
            "iteration 26\n",
            "iteration 27\n",
            "iteration 28\n",
            "iteration 29\n",
            "iteration 30\n",
            "iteration 31\n",
            "iteration 32\n",
            "iteration 33\n",
            "iteration 34\n",
            "iteration 35\n",
            "iteration 36\n",
            "iteration 37\n",
            "iteration 38\n",
            "iteration 39\n",
            "iteration 40\n",
            "iteration 41\n",
            "iteration 42\n",
            "iteration 43\n",
            "iteration 44\n",
            "iteration 45\n",
            "iteration 46\n",
            "iteration 47\n",
            "iteration 48\n",
            "iteration 49\n",
            "iteration 50\n",
            "iteration 51\n",
            "iteration 52\n",
            "iteration 53\n",
            "iteration 54\n",
            "iteration 55\n",
            "iteration 56\n",
            "iteration 57\n",
            "iteration 58\n",
            "iteration 59\n",
            "iteration 60\n",
            "iteration 61\n",
            "iteration 62\n",
            "iteration 63\n",
            "iteration 64\n",
            "iteration 65\n",
            "iteration 66\n",
            "iteration 67\n",
            "iteration 68\n",
            "iteration 69\n",
            "iteration 70\n",
            "iteration 71\n",
            "iteration 72\n",
            "iteration 73\n",
            "iteration 74\n",
            "iteration 75\n",
            "iteration 76\n",
            "iteration 77\n",
            "iteration 78\n",
            "iteration 79\n",
            "iteration 80\n",
            "iteration 81\n",
            "iteration 82\n",
            "iteration 83\n",
            "iteration 84\n",
            "iteration 85\n",
            "iteration 86\n",
            "iteration 87\n",
            "iteration 88\n",
            "iteration 89\n",
            "iteration 90\n",
            "iteration 91\n",
            "iteration 92\n",
            "iteration 93\n",
            "iteration 94\n",
            "iteration 95\n",
            "iteration 96\n",
            "iteration 97\n",
            "iteration 98\n",
            "iteration 99\n",
            "trail 4\n",
            "iteration 0\n",
            "iteration 1\n",
            "iteration 2\n",
            "iteration 3\n",
            "iteration 4\n",
            "iteration 5\n",
            "iteration 6\n",
            "iteration 7\n",
            "iteration 8\n",
            "iteration 9\n",
            "iteration 10\n",
            "iteration 11\n",
            "iteration 12\n",
            "iteration 13\n",
            "iteration 14\n",
            "iteration 15\n",
            "iteration 16\n",
            "iteration 17\n",
            "iteration 18\n",
            "iteration 19\n",
            "iteration 20\n",
            "iteration 21\n",
            "iteration 22\n",
            "iteration 23\n",
            "iteration 24\n",
            "iteration 25\n",
            "iteration 26\n",
            "iteration 27\n",
            "iteration 28\n",
            "iteration 29\n",
            "iteration 30\n",
            "iteration 31\n",
            "iteration 32\n",
            "iteration 33\n",
            "iteration 34\n",
            "iteration 35\n",
            "iteration 36\n",
            "iteration 37\n",
            "iteration 38\n",
            "iteration 39\n",
            "iteration 40\n",
            "iteration 41\n",
            "iteration 42\n",
            "iteration 43\n",
            "iteration 44\n",
            "iteration 45\n",
            "iteration 46\n",
            "iteration 47\n",
            "iteration 48\n",
            "iteration 49\n",
            "iteration 50\n",
            "iteration 51\n",
            "iteration 52\n",
            "iteration 53\n",
            "iteration 54\n",
            "iteration 55\n",
            "iteration 56\n",
            "iteration 57\n",
            "iteration 58\n",
            "iteration 59\n",
            "iteration 60\n",
            "iteration 61\n",
            "iteration 62\n",
            "iteration 63\n",
            "iteration 64\n",
            "iteration 65\n",
            "iteration 66\n",
            "iteration 67\n",
            "iteration 68\n",
            "iteration 69\n",
            "iteration 70\n",
            "iteration 71\n",
            "iteration 72\n",
            "iteration 73\n",
            "iteration 74\n",
            "iteration 75\n",
            "iteration 76\n",
            "iteration 77\n",
            "iteration 78\n",
            "iteration 79\n",
            "iteration 80\n",
            "iteration 81\n",
            "iteration 82\n",
            "iteration 83\n",
            "iteration 84\n",
            "iteration 85\n",
            "iteration 86\n",
            "iteration 87\n",
            "iteration 88\n",
            "iteration 89\n",
            "iteration 90\n",
            "iteration 91\n",
            "iteration 92\n",
            "iteration 93\n",
            "iteration 94\n",
            "iteration 95\n",
            "iteration 96\n",
            "iteration 97\n",
            "iteration 98\n",
            "iteration 99\n"
          ],
          "name": "stdout"
        }
      ]
    },
    {
      "cell_type": "code",
      "metadata": {
        "id": "ofq-yFpdEpVd",
        "colab_type": "code",
        "colab": {
          "base_uri": "https://localhost:8080/",
          "height": 761
        },
        "outputId": "023732c7-0abe-4075-db1e-5c0df6282e23"
      },
      "source": [
        "model_path = '/content/BTC_DQN1'\n",
        "DQN_validation(market_data, model_path)"
      ],
      "execution_count": 36,
      "outputs": [
        {
          "output_type": "display_data",
          "data": {
            "image/png": "[encoded data removed]",
            "text/plain": [
              "<Figure size 432x288 with 1 Axes>"
            ]
          },
          "metadata": {
            "tags": [],
            "needs_background": "light"
          }
        },
        {
          "output_type": "display_data",
          "data": {
            "image/png": "[encoded data removed]",
            "text/plain": [
              "<Figure size 432x288 with 1 Axes>"
            ]
          },
          "metadata": {
            "tags": [],
            "needs_background": "light"
          }
        },
        {
          "output_type": "display_data",
          "data": {
            "image/png": "[encoded data removed]",
            "text/plain": [
              "<Figure size 432x288 with 1 Axes>"
            ]
          },
          "metadata": {
            "tags": [],
            "needs_background": "light"
          }
        }
      ]
    },
    {
      "cell_type": "markdown",
      "metadata": {
        "id": "eyZTMCCHE_e_",
        "colab_type": "text"
      },
      "source": [
        "This one has already show the trend of doing a 'buy and hold' strategy as the number of bitcoin holds doesn't quite vibrate. As training even longer, the agent will give me a perfect 'buy and hold' strategy, which is undoubtedly good in bitcoin market."
      ]
    }
  ]
}