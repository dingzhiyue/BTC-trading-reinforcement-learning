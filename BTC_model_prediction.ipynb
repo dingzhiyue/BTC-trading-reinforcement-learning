{
  "nbformat": 4,
  "nbformat_minor": 0,
  "metadata": {
    "colab": {
      "name": "BTC_model_prediction.ipynb",
      "provenance": []
    },
    "kernelspec": {
      "name": "python3",
      "display_name": "Python 3"
    }
  },
  "cells": [
    {
      "cell_type": "code",
      "metadata": {
        "id": "ss3e5gM6ijwf",
        "colab_type": "code",
        "colab": {}
      },
      "source": [
        "import pandas as pd\n",
        "import numpy as np\n",
        "import matplotlib.pyplot as plt\n",
        "from statsmodels.tsa.stattools import adfuller\n",
        "from statsmodels.stats.diagnostic import acorr_ljungbox\n",
        "from statsmodels.tsa.arima_model import ARIMA\n",
        "from statsmodels.graphics.tsaplots import plot_acf, plot_pacf\n",
        "import pmdarima as pm"
      ],
      "execution_count": 1,
      "outputs": []
    },
    {
      "cell_type": "code",
      "metadata": {
        "id": "oIWbcTg3oFrM",
        "colab_type": "code",
        "colab": {
          "base_uri": "https://localhost:8080/",
          "height": 34
        },
        "outputId": "7512fc7c-db4b-4203-93b6-18a7767fdd62"
      },
      "source": [
        "from google.colab import drive\n",
        "drive.mount('/content/my')"
      ],
      "execution_count": 2,
      "outputs": [
        {
          "output_type": "stream",
          "text": [
            "Drive already mounted at /content/my; to attempt to forcibly remount, call drive.mount(\"/content/my\", force_remount=True).\n"
          ],
          "name": "stdout"
        }
      ]
    },
    {
      "cell_type": "markdown",
      "metadata": {
        "id": "7NMjeyvTo5aL",
        "colab_type": "text"
      },
      "source": [
        "data cleaning and exploration process"
      ]
    },
    {
      "cell_type": "code",
      "metadata": {
        "id": "2aw7L2GjobaT",
        "colab_type": "code",
        "colab": {
          "base_uri": "https://localhost:8080/",
          "height": 295
        },
        "outputId": "19ba5a74-e816-4100-8169-6e3951cc6dd3"
      },
      "source": [
        "path = 'my/My Drive/'\n",
        "data = pd.read_csv(path+'coinbaseUSD.csv')\n",
        "data = data.dropna()#cleaning\n",
        "data.head()\n",
        "data[['Open','High','Low','Close','Volume_(BTC)']].plot()#overview of the data"
      ],
      "execution_count": 3,
      "outputs": [
        {
          "output_type": "execute_result",
          "data": {
            "text/plain": [
              "<matplotlib.axes._subplots.AxesSubplot at 0x7f72a736f3c8>"
            ]
          },
          "metadata": {
            "tags": []
          },
          "execution_count": 3
        },
        {
          "output_type": "display_data",
          "data": {
            "image/png": "[encoded data removed]",
            "text/plain": [
              "<Figure size 432x288 with 1 Axes>"
            ]
          },
          "metadata": {
            "tags": [],
            "needs_background": "light"
          }
        }
      ]
    },
    {
      "cell_type": "markdown",
      "metadata": {
        "id": "Y143MwdbuMkb",
        "colab_type": "text"
      },
      "source": [
        "#use a small portion of data as an example to avoid a crash of colab"
      ]
    },
    {
      "cell_type": "code",
      "metadata": {
        "id": "kGp5OivPpWmh",
        "colab_type": "code",
        "colab": {
          "base_uri": "https://localhost:8080/",
          "height": 34
        },
        "outputId": "126af599-fa5c-41c0-eef0-5030ebdf48f2"
      },
      "source": [
        "data = data['Close'].iloc[int(0.5*len(data)):int(0.51*len(data))]\n",
        "print(data.shape)"
      ],
      "execution_count": 21,
      "outputs": [
        {
          "output_type": "stream",
          "text": [
            "(19907,)\n"
          ],
          "name": "stdout"
        }
      ]
    },
    {
      "cell_type": "code",
      "metadata": {
        "id": "cgwGlVLYvj2T",
        "colab_type": "code",
        "colab": {}
      },
      "source": [
        ""
      ],
      "execution_count": null,
      "outputs": []
    },
    {
      "cell_type": "markdown",
      "metadata": {
        "id": "Jf9YWubWkMQh",
        "colab_type": "text"
      },
      "source": [
        "Function to do ADF test check for stationarity"
      ]
    },
    {
      "cell_type": "code",
      "metadata": {
        "id": "WNchp53ljZN4",
        "colab_type": "code",
        "colab": {}
      },
      "source": [
        "def stationary_test(data):#ADF\n",
        "    test_stats = adfuller(data)\n",
        "    summary1 = pd.Series(test_stats[0:4],\n",
        "                         index=['ADF statistic', 'P value', 'number of lags', 'number of observations'])\n",
        "    critics = [test_stats[4][key] for key in test_stats[4]]\n",
        "    summary2 = pd.Series(critics, index=['1% critic value', '5% critic value', '10% critic value'])\n",
        "    summary = pd.concat([summary1, summary2], axis=0)\n",
        "    print(summary)\n",
        "     "
      ],
      "execution_count": 10,
      "outputs": []
    },
    {
      "cell_type": "code",
      "metadata": {
        "id": "AJLnro8GqICh",
        "colab_type": "code",
        "colab": {
          "base_uri": "https://localhost:8080/",
          "height": 158
        },
        "outputId": "5785dd9c-04df-4037-8372-a75881e0708e"
      },
      "source": [
        "stationary_test(data)"
      ],
      "execution_count": 22,
      "outputs": [
        {
          "output_type": "stream",
          "text": [
            "ADF statistic                -0.798805\n",
            "P value                       0.819473\n",
            "number of lags               41.000000\n",
            "number of observations    19865.000000\n",
            "1% critic value              -3.430679\n",
            "5% critic value              -2.861686\n",
            "10% critic value             -2.566847\n",
            "dtype: float64\n"
          ],
          "name": "stdout"
        }
      ]
    },
    {
      "cell_type": "markdown",
      "metadata": {
        "id": "ACMIwLrHvqEt",
        "colab_type": "text"
      },
      "source": [
        "A high P-value indicates a failure to reject the H_0, thus this series is not stationary."
      ]
    },
    {
      "cell_type": "markdown",
      "metadata": {
        "id": "bh3Q-9-KvS5A",
        "colab_type": "text"
      },
      "source": [
        "Built ARIMA model"
      ]
    },
    {
      "cell_type": "code",
      "metadata": {
        "id": "ygrpI_ervVvm",
        "colab_type": "code",
        "colab": {}
      },
      "source": [
        "class ARIMA_model():\n",
        "    def __init__(self, train, test):#Series\n",
        "        self.train = train\n",
        "        self.test = test\n",
        "\n",
        "    def plot_acf_pacf(self, data):\n",
        "        fig, axes = plt.subplots(1,2)\n",
        "        plot_acf(data, ax=axes[0])\n",
        "        plot_pacf(data, ax=axes[1])\n",
        "\n",
        "    def forecast(self, p,d,q):\n",
        "        model_fit = ARIMA(self.train.values, (p,d,q)).fit(disp=-1)\n",
        "        print(model_fit.summary())\n",
        "        pred, se, conf = model_fit.forecast(len(test.index), alpha = 0.05)\n",
        "        plt.figure()\n",
        "        plt.plot(train.index, train)\n",
        "        plt.plot(test.index, pred)\n",
        "        plt.fill_between(test.index, conf[:,0], conf[:,1], alpha = 0.15)\n",
        "        plt.plot(test.index, test)\n",
        "        plt.legend(['train','prediction','test'])\n",
        "        plt.show()\n",
        "        return model_fit\n",
        "\n",
        "        return model"
      ],
      "execution_count": 23,
      "outputs": []
    },
    {
      "cell_type": "code",
      "metadata": {
        "id": "035rw-gtvYYW",
        "colab_type": "code",
        "colab": {
          "base_uri": "https://localhost:8080/",
          "height": 52
        },
        "outputId": "bfa94849-b94b-4118-aa3d-01b5fa379908"
      },
      "source": [
        "#train, test split\n",
        "train = data.iloc[:int(0.7*len(data))]\n",
        "test = data.iloc[int(0.7*len(data)):]\n",
        "print(len(train),len(test))\n",
        "#ARIMA\n",
        "model = ARIMA_model(train, test)\n",
        "print(data.shape)"
      ],
      "execution_count": 24,
      "outputs": [
        {
          "output_type": "stream",
          "text": [
            "13934 5973\n",
            "(19907,)\n"
          ],
          "name": "stdout"
        }
      ]
    },
    {
      "cell_type": "markdown",
      "metadata": {
        "id": "kVanZFpewET1",
        "colab_type": "text"
      },
      "source": [
        "Determining DoF of the ARIMA by looking at the ACF and PACF"
      ]
    },
    {
      "cell_type": "code",
      "metadata": {
        "id": "4XwkJWn6wN-T",
        "colab_type": "code",
        "colab": {
          "base_uri": "https://localhost:8080/",
          "height": 281
        },
        "outputId": "177e024c-ba70-4711-f7bc-ef938f087d8d"
      },
      "source": [
        "model.plot_acf_pacf(data)"
      ],
      "execution_count": 26,
      "outputs": [
        {
          "output_type": "display_data",
          "data": {
            "image/png": "[encoded data removed]",
            "text/plain": [
              "<Figure size 432x288 with 2 Axes>"
            ]
          },
          "metadata": {
            "tags": [],
            "needs_background": "light"
          }
        }
      ]
    },
    {
      "cell_type": "markdown",
      "metadata": {
        "id": "PrOH6MkvxdKh",
        "colab_type": "text"
      },
      "source": [
        "This ACF shows a obvious nonstationarity. So at least 1 order difference should be done."
      ]
    },
    {
      "cell_type": "code",
      "metadata": {
        "id": "0-v9tDHOxtGx",
        "colab_type": "code",
        "colab": {
          "base_uri": "https://localhost:8080/",
          "height": 281
        },
        "outputId": "2f86da07-a5c8-4099-91e4-2ed2dfde31a1"
      },
      "source": [
        "model.plot_acf_pacf(np.diff(data))"
      ],
      "execution_count": 27,
      "outputs": [
        {
          "output_type": "display_data",
          "data": {
            "image/png": "[encoded data removed]",
            "text/plain": [
              "<Figure size 432x288 with 2 Axes>"
            ]
          },
          "metadata": {
            "tags": [],
            "needs_background": "light"
          }
        }
      ]
    },
    {
      "cell_type": "markdown",
      "metadata": {
        "id": "sfUcedC-x8TC",
        "colab_type": "text"
      },
      "source": [
        "Now, these looks fine. From the acf, I guess q=3, while p=3 from the pacf. In this case, the ARIMA model would be of order (3,1,3)"
      ]
    },
    {
      "cell_type": "code",
      "metadata": {
        "id": "SPQdiVSpyNA-",
        "colab_type": "code",
        "colab": {
          "base_uri": "https://localhost:8080/",
          "height": 809
        },
        "outputId": "86c10978-0673-4420-b35a-9922a341919d"
      },
      "source": [
        "model_fit = model.forecast(3,1,3)"
      ],
      "execution_count": 28,
      "outputs": [
        {
          "output_type": "stream",
          "text": [
            "                             ARIMA Model Results                              \n",
            "==============================================================================\n",
            "Dep. Variable:                    D.y   No. Observations:                13933\n",
            "Model:                 ARIMA(3, 1, 3)   Log Likelihood              -13229.842\n",
            "Method:                       css-mle   S.D. of innovations              0.625\n",
            "Date:                Thu, 02 Jul 2020   AIC                          26475.684\n",
            "Time:                        18:29:25   BIC                          26536.020\n",
            "Sample:                             1   HQIC                         26495.775\n",
            "                                                                              \n",
            "==============================================================================\n",
            "                 coef    std err          z      P>|z|      [0.025      0.975]\n",
            "------------------------------------------------------------------------------\n",
            "const          0.0079      0.004      1.868      0.062      -0.000       0.016\n",
            "ar.L1.D.y     -0.5266      0.210     -2.512      0.012      -0.938      -0.116\n",
            "ar.L2.D.y     -0.5733      0.134     -4.265      0.000      -0.837      -0.310\n",
            "ar.L3.D.y     -0.1752      0.044     -3.993      0.000      -0.261      -0.089\n",
            "ma.L1.D.y      0.2674      0.210      1.274      0.203      -0.144       0.679\n",
            "ma.L2.D.y      0.4722      0.142      3.318      0.001       0.193       0.751\n",
            "ma.L3.D.y      0.0735      0.056      1.313      0.189      -0.036       0.183\n",
            "                                    Roots                                    \n",
            "=============================================================================\n",
            "                  Real          Imaginary           Modulus         Frequency\n",
            "-----------------------------------------------------------------------------\n",
            "AR.1           -0.1796           -1.3882j            1.3998           -0.2705\n",
            "AR.2           -0.1796           +1.3882j            1.3998            0.2705\n",
            "AR.3           -2.9126           -0.0000j            2.9126           -0.5000\n",
            "MA.1           -0.1163           -1.4778j            1.4824           -0.2625\n",
            "MA.2           -0.1163           +1.4778j            1.4824            0.2625\n",
            "MA.3           -6.1894           -0.0000j            6.1894           -0.5000\n",
            "-----------------------------------------------------------------------------\n"
          ],
          "name": "stdout"
        },
        {
          "output_type": "display_data",
          "data": {
            "image/png": "[encoded data removed]",
            "text/plain": [
              "<Figure size 432x288 with 1 Axes>"
            ]
          },
          "metadata": {
            "tags": [],
            "needs_background": "light"
          }
        }
      ]
    },
    {
      "cell_type": "markdown",
      "metadata": {
        "id": "AqSZZmHBzK7l",
        "colab_type": "text"
      },
      "source": [
        ""
      ]
    },
    {
      "cell_type": "markdown",
      "metadata": {
        "id": "QrrocdUXyzmJ",
        "colab_type": "text"
      },
      "source": [
        "This prediction looks good since its predicts in a right direction and the predictions at the early stages are inside the confidence bond."
      ]
    },
    {
      "cell_type": "markdown",
      "metadata": {
        "id": "vIVRPfD1zH8E",
        "colab_type": "text"
      },
      "source": [
        "Try a simpler model?"
      ]
    },
    {
      "cell_type": "code",
      "metadata": {
        "id": "fnBYjejKzG0N",
        "colab_type": "code",
        "colab": {
          "base_uri": "https://localhost:8080/",
          "height": 737
        },
        "outputId": "f9cf6293-de95-4f65-9042-afca55d66487"
      },
      "source": [
        "model_fit2 = model.forecast(2,1,2)"
      ],
      "execution_count": 29,
      "outputs": [
        {
          "output_type": "stream",
          "text": [
            "                             ARIMA Model Results                              \n",
            "==============================================================================\n",
            "Dep. Variable:                    D.y   No. Observations:                13933\n",
            "Model:                 ARIMA(2, 1, 2)   Log Likelihood              -13234.669\n",
            "Method:                       css-mle   S.D. of innovations              0.626\n",
            "Date:                Thu, 02 Jul 2020   AIC                          26481.338\n",
            "Time:                        18:32:30   BIC                          26526.590\n",
            "Sample:                             1   HQIC                         26496.406\n",
            "                                                                              \n",
            "==============================================================================\n",
            "                 coef    std err          z      P>|z|      [0.025      0.975]\n",
            "------------------------------------------------------------------------------\n",
            "const          0.0079      0.004      1.846      0.065      -0.000       0.016\n",
            "ar.L1.D.y      0.0967      0.138      0.700      0.484      -0.174       0.367\n",
            "ar.L2.D.y     -0.1301      0.043     -3.032      0.002      -0.214      -0.046\n",
            "ma.L1.D.y     -0.3556      0.138     -2.578      0.010      -0.626      -0.085\n",
            "ma.L2.D.y      0.1892      0.036      5.254      0.000       0.119       0.260\n",
            "                                    Roots                                    \n",
            "=============================================================================\n",
            "                  Real          Imaginary           Modulus         Frequency\n",
            "-----------------------------------------------------------------------------\n",
            "AR.1            0.3717           -2.7479j            2.7729           -0.2286\n",
            "AR.2            0.3717           +2.7479j            2.7729            0.2286\n",
            "MA.1            0.9399           -2.0982j            2.2991           -0.1830\n",
            "MA.2            0.9399           +2.0982j            2.2991            0.1830\n",
            "-----------------------------------------------------------------------------\n"
          ],
          "name": "stdout"
        },
        {
          "output_type": "display_data",
          "data": {
            "image/png": "[encoded data removed]",
            "text/plain": [
              "<Figure size 432x288 with 1 Axes>"
            ]
          },
          "metadata": {
            "tags": [],
            "needs_background": "light"
          }
        }
      ]
    },
    {
      "cell_type": "markdown",
      "metadata": {
        "id": "2vD_72sqzeRv",
        "colab_type": "text"
      },
      "source": [
        "Since this one has a higher AIC, I will stick to the previous model."
      ]
    },
    {
      "cell_type": "markdown",
      "metadata": {
        "id": "qcJm_o82znEb",
        "colab_type": "text"
      },
      "source": [
        "Plot residue to see if needs variance analysis."
      ]
    },
    {
      "cell_type": "code",
      "metadata": {
        "id": "l8zwr1G10pNn",
        "colab_type": "code",
        "colab": {
          "base_uri": "https://localhost:8080/",
          "height": 1000
        },
        "outputId": "56f5e6db-8fbb-4b0f-cc5a-143addae5af2"
      },
      "source": [
        "residue = model_fit.resid\n",
        "plt.figure()\n",
        "plt.subplot(1,2,1)\n",
        "plt.plot(residue)\n",
        "plt.subplot(1,2,2)\n",
        "plt.hist(residue, bins=100)"
      ],
      "execution_count": 35,
      "outputs": [
        {
          "output_type": "execute_result",
          "data": {
            "text/plain": [
              "(array([1.000e+00, 0.000e+00, 0.000e+00, 0.000e+00, 0.000e+00, 0.000e+00,\n",
              "        0.000e+00, 0.000e+00, 0.000e+00, 0.000e+00, 1.000e+00, 0.000e+00,\n",
              "        0.000e+00, 0.000e+00, 0.000e+00, 0.000e+00, 0.000e+00, 0.000e+00,\n",
              "        0.000e+00, 0.000e+00, 0.000e+00, 0.000e+00, 0.000e+00, 1.000e+00,\n",
              "        0.000e+00, 0.000e+00, 0.000e+00, 0.000e+00, 0.000e+00, 0.000e+00,\n",
              "        1.000e+00, 1.000e+00, 1.000e+00, 2.000e+00, 3.000e+00, 0.000e+00,\n",
              "        2.000e+00, 1.000e+00, 2.000e+00, 1.000e+00, 2.000e+00, 3.000e+00,\n",
              "        3.000e+00, 3.000e+00, 5.000e+00, 7.000e+00, 1.000e+01, 1.600e+01,\n",
              "        1.400e+01, 3.500e+01, 3.300e+01, 6.000e+01, 5.800e+01, 8.500e+01,\n",
              "        1.250e+02, 1.660e+02, 2.680e+02, 3.830e+02, 5.700e+02, 9.000e+02,\n",
              "        6.092e+03, 2.278e+03, 1.072e+03, 6.730e+02, 3.850e+02, 2.530e+02,\n",
              "        1.400e+02, 8.100e+01, 6.700e+01, 3.600e+01, 1.800e+01, 1.700e+01,\n",
              "        1.000e+01, 8.000e+00, 3.000e+00, 7.000e+00, 2.000e+00, 2.000e+00,\n",
              "        4.000e+00, 1.000e+00, 4.000e+00, 6.000e+00, 2.000e+00, 0.000e+00,\n",
              "        0.000e+00, 1.000e+00, 1.000e+00, 2.000e+00, 1.000e+00, 1.000e+00,\n",
              "        0.000e+00, 1.000e+00, 0.000e+00, 1.000e+00, 0.000e+00, 0.000e+00,\n",
              "        0.000e+00, 0.000e+00, 0.000e+00, 1.000e+00]),\n",
              " array([-12.27652915, -12.07463923, -11.87274931, -11.67085939,\n",
              "        -11.46896948, -11.26707956, -11.06518964, -10.86329972,\n",
              "        -10.66140981, -10.45951989, -10.25762997, -10.05574005,\n",
              "         -9.85385014,  -9.65196022,  -9.4500703 ,  -9.24818038,\n",
              "         -9.04629047,  -8.84440055,  -8.64251063,  -8.44062071,\n",
              "         -8.2387308 ,  -8.03684088,  -7.83495096,  -7.63306104,\n",
              "         -7.43117113,  -7.22928121,  -7.02739129,  -6.82550137,\n",
              "         -6.62361146,  -6.42172154,  -6.21983162,  -6.0179417 ,\n",
              "         -5.81605179,  -5.61416187,  -5.41227195,  -5.21038203,\n",
              "         -5.00849212,  -4.8066022 ,  -4.60471228,  -4.40282236,\n",
              "         -4.20093245,  -3.99904253,  -3.79715261,  -3.59526269,\n",
              "         -3.39337278,  -3.19148286,  -2.98959294,  -2.78770302,\n",
              "         -2.58581311,  -2.38392319,  -2.18203327,  -1.98014335,\n",
              "         -1.77825343,  -1.57636352,  -1.3744736 ,  -1.17258368,\n",
              "         -0.97069376,  -0.76880385,  -0.56691393,  -0.36502401,\n",
              "         -0.16313409,   0.03875582,   0.24064574,   0.44253566,\n",
              "          0.64442558,   0.84631549,   1.04820541,   1.25009533,\n",
              "          1.45198525,   1.65387516,   1.85576508,   2.057655  ,\n",
              "          2.25954492,   2.46143483,   2.66332475,   2.86521467,\n",
              "          3.06710459,   3.2689945 ,   3.47088442,   3.67277434,\n",
              "          3.87466426,   4.07655417,   4.27844409,   4.48033401,\n",
              "          4.68222393,   4.88411384,   5.08600376,   5.28789368,\n",
              "          5.4897836 ,   5.69167351,   5.89356343,   6.09545335,\n",
              "          6.29734327,   6.49923318,   6.7011231 ,   6.90301302,\n",
              "          7.10490294,   7.30679285,   7.50868277,   7.71057269,\n",
              "          7.91246261]),\n",
              " <a list of 100 Patch objects>)"
            ]
          },
          "metadata": {
            "tags": []
          },
          "execution_count": 35
        },
        {
          "output_type": "display_data",
          "data": {
            "image/png": "[encoded data removed]",
            "text/plain": [
              "<Figure size 432x288 with 2 Axes>"
            ]
          },
          "metadata": {
            "tags": [],
            "needs_background": "light"
          }
        }
      ]
    },
    {
      "cell_type": "markdown",
      "metadata": {
        "id": "5ri4WWVakLNH",
        "colab_type": "text"
      },
      "source": [
        "Function to do Ljung box test to see if any further ARCh or GARCH is needed"
      ]
    },
    {
      "cell_type": "code",
      "metadata": {
        "id": "oBEM2pM2kB9p",
        "colab_type": "code",
        "colab": {}
      },
      "source": [
        "def residue_variance_test(data, lag):#ljung box\n",
        "    data_square = np.square(data)\n",
        "    test_stats = acorr_ljungbox(data_square, lags=lag)\n",
        "    d = {'LJung statistic':test_stats[0], 'P-values': test_stats[1]}\n",
        "    summary = pd.DataFrame(d)\n",
        "    print(summary)"
      ],
      "execution_count": 30,
      "outputs": []
    },
    {
      "cell_type": "code",
      "metadata": {
        "id": "lu93j4IckokO",
        "colab_type": "code",
        "colab": {
          "base_uri": "https://localhost:8080/",
          "height": 266
        },
        "outputId": "684a50cb-96bc-4691-b175-9da8178388b9"
      },
      "source": [
        "residue_variance_test(model_fit.resid, 10)"
      ],
      "execution_count": 31,
      "outputs": [
        {
          "output_type": "stream",
          "text": [
            "   LJung statistic       P-values\n",
            "0      1014.694640  1.148693e-222\n",
            "1      1057.751617  2.051893e-230\n",
            "2      1127.581885  3.776623e-244\n",
            "3      1161.758689  3.105553e-250\n",
            "4      1221.918677  5.250233e-262\n",
            "5      1335.140302  2.674435e-285\n",
            "6      1448.768135  1.081041e-308\n",
            "7      1500.898626   0.000000e+00\n",
            "8      1542.178955   0.000000e+00\n",
            "9      1548.914587   0.000000e+00\n"
          ],
          "name": "stdout"
        },
        {
          "output_type": "stream",
          "text": [
            "/usr/local/lib/python3.6/dist-packages/statsmodels/stats/diagnostic.py:524: FutureWarning: The value returned will change to a single DataFrame after 0.12 is released.  Set return_df to True to use to return a DataFrame now.  Set return_df to False to silence this warning.\n",
            "  warnings.warn(msg, FutureWarning)\n"
          ],
          "name": "stderr"
        }
      ]
    },
    {
      "cell_type": "markdown",
      "metadata": {
        "id": "wjqQ_yiG1yM_",
        "colab_type": "text"
      },
      "source": [
        "So here shows strong correlation of residues, which indicates a necessary further ARCH modeling. "
      ]
    }
  ]
}